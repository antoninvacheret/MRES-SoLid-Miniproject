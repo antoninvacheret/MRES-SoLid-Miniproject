{
 "cells": [
  {
   "cell_type": "markdown",
   "id": "6ec3a9c2-1a75-4165-8f6e-66fbfec7c91a",
   "metadata": {},
   "source": [
    "# Background discrimination using the SoLid experiment SM1 module data\n",
    "\n",
    "## Dr. Antonin Vacheret (avachere@imperial.ac.uk) and Danny Galbinski (d.galbinski19@imperial.ac.uk)\n",
    "\n",
    "\n",
    "\n",
    "## High Energy Physics Group\n",
    "\n",
    "## 523 Blackett Lab\n",
    "\n",
    " \n",
    "This project is a typical classification problem in HEP where the experimental data contains large amount of background events and very few signal events (less than ~1% of total). \n",
    "\n",
    "The aim is to develop a simpler version of the analysis conducted with the first detector module SM1 to explore various multi-variate models. If you are interested, results from this analysis where published in article below to estimate the background expected for the first phase of the full scale experiment:\n",
    "\n",
    "https://iopscience.iop.org/article/10.1088/1748-0221/13/05/P05005\n",
    "\n",
    "The introductory material provided during the course should give you the necessary background to understand the dataset and the approach used to separate the signal and background. The paper is worth a read as it offers more in-depth description of the detector system and the measurements obtained\n",
    "\n",
    "This exercise is done exclusively in Python and with the aim of introducing the basic classification tools and techniques that are use in most classification problems using some very prowerful library like ```scikit learn```\n",
    "\n",
    "The project is split in two parts :\n",
    "\n",
    "* The first part is to learn about the dataset, visualise the data and make sense of the metrics used to optimise the task. It focuses on developing a simple cut and count analysis based on 1 dimensional selection cut\n",
    "* The second part is about developing the multi-variate analysis using machine learning algorithms like Support Vector Machines or Neural Nets to achieve superiro performance. \n"
   ]
  },
  {
   "cell_type": "markdown",
   "id": "50de5047-470d-444c-9910-f0f4934b96c3",
   "metadata": {},
   "source": [
    "## SoLid Datasets and format ##\n",
    "\n",
    "The data sets used for the analysis are all saved in numpy arrays. They have been split in multiple datasets with specific running conditions and time selection that will be used to construct the different category of training samples needed for the analysis. More details can be found in the introductionary slides. \n",
    "\n",
    "### Antineutrino Monte Carlo simulation dataset\n",
    "```IBD_sim_signal.npy```: This is the signal prediction dataset. Since it is not possible to use real antineutrino signal as it is the signal we want to extract, we use here the best prediction we have for it using a simulated sample (Geant4 Monte Carlo simulation). The predicted number of antineutrino interactions present in the reactor ON data is ~15 $\\bar{\\nu_e}$ . \n",
    "\n",
    "### SM1 detector datasets\n",
    "\n",
    "There are two main periods for the data:\n",
    "* Reactor **off** periods were only background signal is present (no antineutrinos).\n",
    "* Reactor **on** periods were background **and** signal are present.\n",
    "\n",
    "There is also two possible time window considered : \n",
    "* The **in-time coincidence window** that contains the correlated pair of signal events (Prompt and delayed).  \n",
    "* The **shifted time coincidence window** where non-correlated backgrounds are present, also called **accidentals**\n",
    "\n",
    "The combination of these time and data periods can be then split into:  \n",
    "\n",
    "* Reactor On ```IBD_on_nonshifted.npy```: IBD candidates from the reactor **on** period, so reactor on background plus any signal.\n",
    "\n",
    "* Reactor Off ```IBD_off_nonshifted.npy```: IBD candidates from the reactor **off** period, so reactor off background only.\n",
    "\n",
    "* Reactor On Shifted ```IBD_on_shifted.npy```: IBD candidates from the reactor **on** period formed by using **shifted time** windows, therefore *accidental background for reactor on*. \n",
    "\n",
    "* Reactor Off Shifted ```IBD_off_shifted.npy```: IBD candidates from the reactor **off** period formed by using **shifted time** windows, therefore *accidental background for reactor off*. \n",
    "\n",
    "\n",
    "Each dataset are 2D numpy arrays and although this format is not very general (e.g. compared to having a class for each IBD candidate), it is very convenient for our purposes and numpy arrays computationally perform quickly. The dataset includes 6 variables of interests and each entry has the following structure [and unit]: \n",
    "\n",
    "```[delta_t (ns), delta_xy (cubes), delta_z (cubes), delta_r (cubes), volume (cubes), prompt_energy (MeV)]```\n",
    "\n",
    "A first reduction of the dataset using pre-selection cuts was performed to make these datasets (basically reducing the background already by about a factor of ten to avoid manipulating too large samples). This includes: \n",
    "0 < delta_t (us) < 400 ;\n",
    "prompt_energy > 1 MeV ;\n",
    "0 <= delta_r <= 5. \n",
    "\n",
    "*NB: multiple shifted windows are used to increase the size of the sample, so the absolute rate does not corresponds to the rate expected in reactor on (non-shifted) sample. To scale back to the non-shifted, you will have to multiply the rate by a factor of 0.194.*\n",
    "\n",
    "*NB: the reactor off runs are 12.2x longer in duration than reactor on.*\n",
    "\n",
    "\n",
    "This pre-selection can be shown to be over 95% efficient, and for this exercise should be considered fully efficient (i.e. no loss of signal). \n",
    "\n",
    "All these datasets have the same format if loaded using the provided functions. Each dataset is a set of IBD candidates, stored as a 2D numpy array. \n"
   ]
  },
  {
   "cell_type": "markdown",
   "id": "4665efba-8581-4655-9c6d-a22737e8117b",
   "metadata": {},
   "source": [
    "## Part I - Learning about the dataset, classification task and simple cut analysis ##\n",
    "\n",
    "- You can use the scripts provided (or write your own) to start looking at each variable and the differences for each datasets by looking at 1D histograms of the data and various binning size. You can for example also plot correlations between them. \n",
    "- What are the variables with the biggest difference between signal and background ? \n",
    "- Define some cut value for each variables and compute the $\\frac{S}{\\sqrt{S+B}}$ ratio which is the metric for the task. How are you going to define the cut values \"by hand\" ?  \n",
    "- Once you have a set of selection cuts, Look at what true positive rate and false negative rate this corresponds to and optimise the metric as needed.\n",
    "\n",
    "Here is an example of a short snippet to plot a specific variable based on the code provided:"
   ]
  },
  {
   "cell_type": "code",
   "execution_count": 1,
   "id": "75d5faf7-35bc-4fa6-b447-873a5b81e375",
   "metadata": {},
   "outputs": [],
   "source": [
    "%matplotlib inline\n",
    "import matplotlib.pyplot as plt\n",
    "import numpy as np\n",
    "\n",
    "# a bit of formating to make the plots looking professional\n",
    "plt.rcParams['text.usetex'] = 0\n",
    "plt.rcParams['font.family'] = 'serif'\n",
    "plt.rcParams['font.size'] = 18\n",
    "plt.rcParams.update({'figure.autolayout': True})\n",
    "\n",
    "import data_getters # class to open the datasets\n",
    "import mpl_examples #  class to plot"
   ]
  },
  {
   "cell_type": "code",
   "execution_count": 2,
   "id": "4495bf14-9948-4d4b-aef0-c400cdf87daa",
   "metadata": {},
   "outputs": [
    {
     "data": {
      "text/plain": [
       "[]"
      ]
     },
     "execution_count": 2,
     "metadata": {},
     "output_type": "execute_result"
    },
    {
     "data": {
      "image/png": "[encoded data removed]",
      "text/plain": [
       "<Figure size 432x288 with 1 Axes>"
      ]
     },
     "metadata": {
      "needs_background": "light"
     },
     "output_type": "display_data"
    }
   ],
   "source": [
    "f_name = 'IBD_off_nonshifted.npy'\n",
    "data = data_getters.get_data(f_name)\n",
    "\n",
    "x_label = '$\\mathregular{E_{Prompt}~[MeV]}$ '\n",
    "y_label = 'a.u.'\n",
    "\n",
    "# Plotting now all events from 6th variable in the 2D array between 0 and 10 MeV\n",
    "ax = mpl_examples.plot_histogram(data[:,5],[0.,10.], 40, x_label, y_label)\n",
    "\n",
    "ax.minorticks_on()\n",
    "ax.semilogy()\n"
   ]
  },
  {
   "cell_type": "code",
   "execution_count": 3,
   "id": "fe03a97d-4a57-40f2-9f2b-cb7ea852f2ec",
   "metadata": {},
   "outputs": [
    {
     "ename": "ModuleNotFoundError",
     "evalue": "No module named 'mpl_scatter_density'",
     "output_type": "error",
     "traceback": [
      "\u001b[0;31m---------------------------------------------------------------------------\u001b[0m",
      "\u001b[0;31mModuleNotFoundError\u001b[0m                       Traceback (most recent call last)",
      "\u001b[0;32m<ipython-input-3-4b87eac68e5f>\u001b[0m in \u001b[0;36m<module>\u001b[0;34m\u001b[0m\n\u001b[1;32m      1\u001b[0m \u001b[0;31m# Make a density scatter plot to study correlations between variables\u001b[0m\u001b[0;34m\u001b[0m\u001b[0;34m\u001b[0m\u001b[0;34m\u001b[0m\u001b[0m\n\u001b[0;32m----> 2\u001b[0;31m \u001b[0;32mimport\u001b[0m \u001b[0mmpl_scatter_density\u001b[0m\u001b[0;34m\u001b[0m\u001b[0;34m\u001b[0m\u001b[0m\n\u001b[0m\u001b[1;32m      3\u001b[0m \u001b[0mfig\u001b[0m \u001b[0;34m=\u001b[0m \u001b[0mplt\u001b[0m\u001b[0;34m.\u001b[0m\u001b[0mfigure\u001b[0m\u001b[0;34m(\u001b[0m\u001b[0;34m)\u001b[0m\u001b[0;34m\u001b[0m\u001b[0;34m\u001b[0m\u001b[0m\n\u001b[1;32m      4\u001b[0m \u001b[0max1\u001b[0m \u001b[0;34m=\u001b[0m \u001b[0mfig\u001b[0m\u001b[0;34m.\u001b[0m\u001b[0madd_subplot\u001b[0m\u001b[0;34m(\u001b[0m\u001b[0;36m1\u001b[0m\u001b[0;34m,\u001b[0m \u001b[0;36m1\u001b[0m\u001b[0;34m,\u001b[0m \u001b[0;36m1\u001b[0m\u001b[0;34m,\u001b[0m \u001b[0mprojection\u001b[0m\u001b[0;34m=\u001b[0m\u001b[0;34m\"scatter_density\"\u001b[0m\u001b[0;34m)\u001b[0m\u001b[0;34m\u001b[0m\u001b[0;34m\u001b[0m\u001b[0m\n\u001b[1;32m      5\u001b[0m \u001b[0max1\u001b[0m\u001b[0;34m.\u001b[0m\u001b[0mscatter_density\u001b[0m\u001b[0;34m(\u001b[0m\u001b[0mdata_on_nonshifted\u001b[0m\u001b[0;34m[\u001b[0m\u001b[0;34m:\u001b[0m\u001b[0;34m,\u001b[0m\u001b[0;36m5\u001b[0m\u001b[0;34m]\u001b[0m\u001b[0;34m,\u001b[0m \u001b[0mdata_on_nonshifted\u001b[0m\u001b[0;34m[\u001b[0m\u001b[0;34m:\u001b[0m\u001b[0;34m,\u001b[0m\u001b[0;36m0\u001b[0m\u001b[0;34m]\u001b[0m\u001b[0;34m,\u001b[0m \u001b[0mcolor\u001b[0m\u001b[0;34m=\u001b[0m\u001b[0;34m\"red\"\u001b[0m\u001b[0;34m)\u001b[0m\u001b[0;34m\u001b[0m\u001b[0;34m\u001b[0m\u001b[0m\n",
      "\u001b[0;31mModuleNotFoundError\u001b[0m: No module named 'mpl_scatter_density'"
     ]
    }
   ],
   "source": [
    "# Make a density scatter plot to study correlations between variables\n",
    "import mpl_scatter_density\n",
    "fig = plt.figure()\n",
    "ax1 = fig.add_subplot(1, 1, 1, projection=\"scatter_density\")\n",
    "ax1.scatter_density(data_on_nonshifted[:,5], data_on_nonshifted[:,0], color=\"red\")\n",
    "ax1.set_xlabel(\"Prompt Energy [MeV]\")\n",
    "ax1.set_ylabel(\"\\u0394t [ns]\")"
   ]
  },
  {
   "cell_type": "markdown",
   "id": "0f9f9548-7d71-4fc3-8673-5d7d674fb221",
   "metadata": {},
   "source": [
    "You could think about how to overlay a few plots and add error bars (statistical ones)."
   ]
  },
  {
   "cell_type": "code",
   "execution_count": 5,
   "id": "fa381e54-435c-4bfa-b94f-26cfbd50e0ee",
   "metadata": {},
   "outputs": [
    {
     "data": {
      "text/plain": [
       "<matplotlib.legend.Legend at 0x7f8bc7508760>"
      ]
     },
     "execution_count": 5,
     "metadata": {},
     "output_type": "execute_result"
    },
    {
     "data": {
      "image/png": "[encoded data removed]",
      "text/plain": [
       "<Figure size 432x288 with 1 Axes>"
      ]
     },
     "metadata": {
      "needs_background": "light"
     },
     "output_type": "display_data"
    }
   ],
   "source": [
    "#!python\n",
    "import IBD\n",
    "\n",
    "#data_on_nonshifted =data_getters.get_data('IBD_on_nonshifted.npy')\n",
    "#data_on_shifted = data_getters.get_data('IBD_on_shifted.npy')\n",
    "\n",
    "# you can also use the function provided to apply specific cuts on the data directly \n",
    "data_on_nonshifted = IBD.apply_rt_cuts(data_getters.get_data('IBD_on_nonshifted.npy'))\n",
    "data_on_shifted = IBD.apply_rt_cuts(data_getters.get_data('IBD_on_shifted.npy'))\n",
    "\n",
    "# Histogram them all using the same range and number of bins. \n",
    "bins_on_shifted, bin_edges = np.histogram(data_on_shifted.T[-1], range = [1, 10], bins = 50)\n",
    "bins_on_nonshifted, bin_edges = np.histogram(data_on_nonshifted.T[-1], range = [1, 10], bins = 50)\n",
    "\n",
    "legend_labels = ['$\\mathregular{B_{On, Reactor}}$', '$\\mathregular{B_{On, Environmental}}$']\n",
    "all_bin_heights = [0.18*bins_on_shifted - 0.18*0.082*bins_on_shifted, 0.18*0.082*bins_on_shifted]\n",
    "        \n",
    "ax = mpl_examples.plot_bar_stack(all_bin_heights, bin_edges, [0, 10], 'Prompt Energy (MeV)', 'N', legend_labels)\n",
    "ax.legend(frameon=0)"
   ]
  },
  {
   "cell_type": "markdown",
   "id": "83411db3-d949-4501-a603-ceb80bac493f",
   "metadata": {},
   "source": [
    "## Part II - Machine learning approach ##\n",
    "\n",
    "in this second part we are going to compare the simple cut analysis with the machine learning approach. \n",
    "\n",
    "- make a flow chart of how you are going to use each datasets to construct the training and test sets for signal and background. \n",
    "- Implement a couple of machine learning algorithms of your choice to build a discriminator (SVM, NN, etc...) that returns a probability. Comment on why you have chosen a specific model. You can find some interesting comparison here: \n",
    "\n",
    "https://scikit-learn.org/stable/auto_examples/classification/plot_classifier_comparison.html\n",
    "\n",
    "- Optimise the selection analysis based on the $\\frac{S}{\\sqrt{S+B}}$ metric. Apply it to reactor on data, Do you see any signal ? "
   ]
  },
  {
   "cell_type": "code",
   "execution_count": null,
   "id": "1e2b8edb-4c5f-4f38-af25-385c4f9c90a7",
   "metadata": {},
   "outputs": [],
   "source": []
  },
  {
   "cell_type": "code",
   "execution_count": null,
   "id": "781e99ce-c951-4ece-af39-3782218b25be",
   "metadata": {},
   "outputs": [],
   "source": []
  }
 ],
 "metadata": {
  "kernelspec": {
   "display_name": "Python 3",
   "language": "python",
   "name": "python3"
  },
  "language_info": {
   "codemirror_mode": {
    "name": "ipython",
    "version": 3
   },
   "file_extension": ".py",
   "mimetype": "text/x-python",
   "name": "python",
   "nbconvert_exporter": "python",
   "pygments_lexer": "ipython3",
   "version": "3.8.8"
  }
 },
 "nbformat": 4,
 "nbformat_minor": 5
}
